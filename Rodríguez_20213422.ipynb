{
  "cells": [
    {
      "cell_type": "markdown",
      "metadata": {
        "id": "view-in-github",
        "colab_type": "text"
      },
      "source": [
        "<a href=\"https://colab.research.google.com/github/MilagrosRo-19/Tareas/blob/main/Rodr%C3%ADguez_20213422.ipynb\" target=\"_parent\"><img src=\"https://colab.research.google.com/assets/colab-badge.svg\" alt=\"Open In Colab\"/></a>"
      ]
    },
    {
      "cell_type": "markdown",
      "metadata": {
        "id": "dMFdyHX0sjVp"
      },
      "source": [
        "# Tarea 2\n",
        "\n",
        "Hora de entrega: Domingo 7, 11.59pm\n",
        "\n",
        "Nombrar al archivo de la siguiente manera: Apellido_código.  \n",
        "Ejemplo:  Solis_20060983\n",
        "\n",
        "Entregar la tarea en esta plantilla, no usar una adicional a esta.\n",
        "\n",
        "\n",
        "* Escriba un docstring para las funciones que aún no lo tienen"
      ]
    },
    {
      "cell_type": "markdown",
      "metadata": {
        "id": "cxhjGZkcsjVs"
      },
      "source": [
        "### 1. Github\n",
        "1. Escribe el link de tu rama dentro del proyecto https://github.com/ccsuehara/letras_2024. La letra de tu canción tiene que figurar. Esto demuestra que has podido crear la rama, hacer un commit y subir tu letra.\n",
        "2. Confirma que has hecho el pull request (solicitud de incorporación). Verificaré que haya habido un pull request (acuérdate que sólo yo puedo hacer el merge pull, o fusionar el pull a la rama main).  \n",
        "3. Escribe el link del repo creado para el proyecto final. El repo debe incluir un commit que incluya un README.md. Un archivo md se crea en cualquier editor de texto, agregando sólo la terminación .md al nombre. Haz el repo público en caso sea privado.\n",
        "\n",
        "(En caso terminaste este ejercicio en clase, enhorabuena! Sólo envíame lo pedido líneas arriba).\n"
      ]
    },
    {
      "cell_type": "markdown",
      "metadata": {
        "id": "X05QkNh_sjVt"
      },
      "source": [
        "### Tus respuestas aquí:\n",
        "1. https://github.com/ccsuehara/letras_2024/tree/MilagrosRod\n",
        "2. sí!\n",
        "3. https://github.com/MilagrosRo-19/Proyecto_FINAL2024\n"
      ]
    },
    {
      "cell_type": "markdown",
      "metadata": {
        "id": "3pokTMtcsjVt"
      },
      "source": [
        "2. Escribe una función que toma dos parámetros numéricos, `a` y `b`, y resta ambos números, de tal forma que `c = a - b`. Expresa `c` como el valor a retornar.  \n",
        "Pista: Este ejercicio es el mismo que hicimos durante la clase."
      ]
    },
    {
      "cell_type": "code",
      "execution_count": null,
      "metadata": {
        "id": "PJ2we2fdsjVu"
      },
      "outputs": [],
      "source": [
        "# Tu respuesta aquí\n",
        "def resta (a,b):\n",
        "  \"\"\"resta dos números y da el resultado\n",
        "  Inputs:\n",
        "  a= número\n",
        "  b= número\n",
        "  Output:\n",
        "  c= número\n",
        "  \"\"\"\n",
        "\n",
        "  c= a - b\n",
        "  return c"
      ]
    },
    {
      "cell_type": "code",
      "source": [
        "resta(10,7)"
      ],
      "metadata": {
        "colab": {
          "base_uri": "https://localhost:8080/"
        },
        "id": "WN0kzCp_pOrp",
        "outputId": "d8979aba-9d8b-4735-a51c-9b001fc457a8"
      },
      "execution_count": null,
      "outputs": [
        {
          "output_type": "execute_result",
          "data": {
            "text/plain": [
              "3"
            ]
          },
          "metadata": {},
          "execution_count": 2
        }
      ]
    },
    {
      "cell_type": "markdown",
      "metadata": {
        "id": "p9LIqqVXsjVw"
      },
      "source": [
        "3. Escribe una función que transforme la temperatura de grados celsius a grados fahrenheit. La fórmula es:    \n",
        "$F = 1.8*C + 32$"
      ]
    },
    {
      "cell_type": "code",
      "execution_count": null,
      "metadata": {
        "id": "XZOASoI8sjVw"
      },
      "outputs": [],
      "source": [
        "def celsius_a_fahrenheit(temp_c):\n",
        "    '''\n",
        "    transforma temperatura de celsius a fahrenheit\n",
        "    Input:\n",
        "        temp_c:número float\n",
        "    Ouput:\n",
        "        retorna: número float\n",
        "    '''\n",
        "\n",
        "    #Escribe aquí tu función\n",
        "    retorna = (1.8*temp_c) +32\n",
        "\n",
        "    return retorna\n",
        "    # definir a temp_f que haga lo que la fórmula está indicando, ese es el output\n"
      ]
    },
    {
      "cell_type": "code",
      "source": [
        "celsius_a_fahrenheit(40)"
      ],
      "metadata": {
        "colab": {
          "base_uri": "https://localhost:8080/"
        },
        "id": "001w8CVo1G4L",
        "outputId": "0852f1de-1b00-4218-c739-2f3afe0e592f"
      },
      "execution_count": null,
      "outputs": [
        {
          "output_type": "execute_result",
          "data": {
            "text/plain": [
              "104.0"
            ]
          },
          "metadata": {},
          "execution_count": 35
        }
      ]
    },
    {
      "cell_type": "markdown",
      "metadata": {
        "id": "fJ5G2_FvsjVx"
      },
      "source": [
        "4. Escribe una función que dé el resultado de una división de dos números, sin embargo, el resultado debe ser un número mixto.\n",
        "\n",
        "Los números mixtos son una representación que tiene una parte entera y una parte menor a la unidad. Por ejemplo, $50 / 7$ es representado de la siguiente manera:\n",
        "$\n",
        "  7\\frac{1}{7}\n",
        "$  \n",
        "\n",
        "Otro ejemplo: $23 / 4$ sería\n",
        "$\n",
        "  5\\frac{3}{4}\n",
        "$  \n",
        "\n",
        "La función toma 2 argumentos: primero, el número a dividir, y segundo, el divisor.\n",
        "\n",
        "La función retorna una lista con 3 elementos: el número entero, el numerador de la fracción y el denominador de la fracción.\n",
        "\n",
        "Por ejemplo, ``` numero_mixto(23,4)``` da como resultado ```[5, 3, 4] ```.\n",
        "\n",
        "``` numero_mixto(24,4)``` da como resultado ```[6, 0, 4] ```.\n",
        "\n",
        "Pista: floor y módulo"
      ]
    },
    {
      "cell_type": "code",
      "execution_count": null,
      "metadata": {
        "id": "EzFOOhSWsjVx"
      },
      "outputs": [],
      "source": [
        "def numero_mixto(num, den):\n",
        "    '''\n",
        "    Convierte división en número mixto\n",
        "    Input:\n",
        "        num: número entero\n",
        "        den: número entero\n",
        "    Ouput:\n",
        "        retorna: lista con 3 números enteros\n",
        "    '''\n",
        "\n",
        "    retorna= (num//den), (num/den), den\n",
        "\n",
        "    return retorna"
      ]
    },
    {
      "cell_type": "code",
      "source": [
        "numero_mixto(23,4)"
      ],
      "metadata": {
        "colab": {
          "base_uri": "https://localhost:8080/"
        },
        "id": "sUPX4d9tyrP7",
        "outputId": "63137113-e6c1-46dd-dd69-16c747229939"
      },
      "execution_count": null,
      "outputs": [
        {
          "output_type": "execute_result",
          "data": {
            "text/plain": [
              "(5, 5.75, 4)"
            ]
          },
          "metadata": {},
          "execution_count": 34
        }
      ]
    },
    {
      "cell_type": "markdown",
      "metadata": {
        "id": "bSYe-re5sjVy"
      },
      "source": [
        "5. Escriba una función sin parámetros y que no retorne nada, pero que haga print de un mensaje que comunique cuál es tu comida favorita o el nombre de tu mascota.\n",
        "Pista: para este ejercicio, revisa la sección de \"Funciones sin parámetros\" del notebook de Funciones."
      ]
    },
    {
      "cell_type": "code",
      "execution_count": null,
      "metadata": {
        "colab": {
          "base_uri": "https://localhost:8080/"
        },
        "id": "gSg_AIhfsjVy",
        "outputId": "92896370-070d-448f-aed7-5a8224bb4e0a"
      },
      "outputs": [
        {
          "output_type": "stream",
          "name": "stdout",
          "text": [
            "Hola, ¿cuál es el nombre de tu mascota?\n"
          ]
        }
      ],
      "source": [
        "#tu respuesta\n",
        "def pop_quizz():\n",
        "    print(\"Hola, ¿cuál es el nombre de tu mascota?\")\n",
        "pop_quizz()"
      ]
    },
    {
      "cell_type": "markdown",
      "metadata": {
        "id": "rhlZJ33fsjVy"
      },
      "source": [
        "6. Escribe un diccionario con el horario GMT de las siguientes ciudades:\n",
        "- Antananarivo, Madagascar,\n",
        "- Beirut, Líbano,\n",
        "- Jakarta, Indonesia,\n",
        "- Teherán, Irán,\n",
        "- Vientiane, Laos,\n",
        "\n",
        "\n",
        "\n",
        "Pista: Lima sería: `\"Lima\": -5`"
      ]
    },
    {
      "cell_type": "code",
      "execution_count": null,
      "metadata": {
        "colab": {
          "base_uri": "https://localhost:8080/"
        },
        "id": "7yWY-YifsjVy",
        "outputId": "1a40fc91-ad87-46cb-c6e6-ac7058887246"
      },
      "outputs": [
        {
          "output_type": "execute_result",
          "data": {
            "text/plain": [
              "{('Antananarivo', 'Madagascar'): '+3',\n",
              " ('Beirut', 'Líbano'): '+2',\n",
              " ('Jakarta', 'Indonesia', 'Vientiane', 'Laos'): '+7',\n",
              " ('Teherán', 'Irán'): '+3:30'}"
            ]
          },
          "metadata": {},
          "execution_count": 12
        }
      ],
      "source": [
        "# tu respuesta aquí\n",
        "Mi_dicc= {(\"Antananarivo\", \"Madagascar\"): \"+3\",\n",
        "         (\"Beirut\", \"Líbano\"): \"+2\",\n",
        "          (\"Jakarta\", \"Indonesia\", \"Vientiane\", \"Laos\"): \"+7\",\n",
        "          (\"Teherán\", \"Irán\"): \"+3:30\"}\n",
        "\n",
        "# con los paréntesis se forman las tuplas\n",
        "Mi_dicc"
      ]
    },
    {
      "cell_type": "markdown",
      "metadata": {
        "id": "W-SKqAxXsjVz"
      },
      "source": [
        "7. Agrega las siguientes ciudades al diccionario:\n",
        "- Astana, Kazajstán,\n",
        "- Uagadugú, Burkina Faso,\n",
        "- Balmopan, Belice"
      ]
    },
    {
      "cell_type": "code",
      "execution_count": null,
      "metadata": {
        "colab": {
          "base_uri": "https://localhost:8080/"
        },
        "id": "o2E0FJmqsjVz",
        "outputId": "ade1ba65-b8cd-47c2-f52a-fecc4b7747a8"
      },
      "outputs": [
        {
          "output_type": "execute_result",
          "data": {
            "text/plain": [
              "{('Antananarivo', 'Madagascar'): '+3',\n",
              " ('Beirut', 'Líbano'): '+2',\n",
              " ('Jakarta', 'Indonesia', 'Vientiane', 'Laos'): '+7',\n",
              " ('Teherán', 'Irán'): '+3:30',\n",
              " ('Astana', 'Kazajstán'): '+6',\n",
              " ('Uagadugú', 'Burkina Faso'): '+0',\n",
              " ('Belmopán', 'Belice'): '-6'}"
            ]
          },
          "metadata": {},
          "execution_count": 13
        }
      ],
      "source": [
        "# tu respuesta aquí\n",
        "\n",
        "Mi_dicc = {(\"Antananarivo\", \"Madagascar\"): \"+3\",\n",
        "         (\"Beirut\", \"Líbano\"): \"+2\",\n",
        "          (\"Jakarta\", \"Indonesia\", \"Vientiane\", \"Laos\"): \"+7\",\n",
        "          (\"Teherán\", \"Irán\"): \"+3:30\",\n",
        "           (\"Astana\", \"Kazajstán\") : \"+6\",\n",
        "           (\"Uagadugú\", \"Burkina Faso\"): \"+0\",\n",
        "           (\"Belmopán\", \"Belice\"): \"-6\"}\n",
        "Mi_dicc\n",
        "\n",
        "# Puedes crear tu dic con las llavecitas o con \"dic(,)\""
      ]
    }
  ],
  "metadata": {
    "kernelspec": {
      "display_name": "Python 3 (ipykernel)",
      "language": "python",
      "name": "python3"
    },
    "language_info": {
      "codemirror_mode": {
        "name": "ipython",
        "version": 3
      },
      "file_extension": ".py",
      "mimetype": "text/x-python",
      "name": "python",
      "nbconvert_exporter": "python",
      "pygments_lexer": "ipython3",
      "version": "3.11.7"
    },
    "colab": {
      "provenance": [],
      "include_colab_link": true
    }
  },
  "nbformat": 4,
  "nbformat_minor": 0
}